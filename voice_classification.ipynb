{
 "cells": [
  {
   "cell_type": "code",
   "execution_count": null,
   "metadata": {},
   "outputs": [],
   "source": [
    "pip install librosa"
   ]
  },
  {
   "cell_type": "code",
   "execution_count": 1,
   "metadata": {},
   "outputs": [
    {
     "name": "stderr",
     "output_type": "stream",
     "text": [
      "C:\\Users\\gupta\\anaconda3\\lib\\site-packages\\paramiko\\transport.py:219: CryptographyDeprecationWarning: Blowfish has been deprecated\n",
      "  \"class\": algorithms.Blowfish,\n"
     ]
    }
   ],
   "source": [
    "import librosa\n",
    "import librosa.display\n",
    "import numpy as np\n",
    "import matplotlib.pyplot as plt\n",
    "from scipy.stats import skew\n",
    "\n",
    "FUNDAMENTAL_FREQUENCY_USE_LIBROSA = False\n",
    "SHOW_SPECTOGRAM_WITH_FUNDAMENTAL_FREQUENCY = False and FUNDAMENTAL_FREQUENCY_USE_LIBROSA\n",
    "\n",
    "class file_data():\n",
    "     \"\"\"\n",
    "    Class storing the data about the file together with label\n",
    "    \"\"\"\n",
    "    def __init__(self, path, fundamental_frequencies, waveform, sampling_rate, label):\n",
    "        \"\"\"\n",
    "        Creates new object calculating all the properties later used in classification based on fundamental frequency, waveform and sampling rate\n",
    "        \"\"\"\n",
    "        self.path = path\n",
    "        filtered_fundamental_frequencies = [x for x in fundamental_frequencies if not np.isnan(x)]\n",
    "        self.fundamental_frequencies = sorted(filtered_fundamental_frequencies)\n",
    "        \n",
    "        self.meanfun = np.mean(self.fundamental_frequencies)\n",
    "        self.q25 = np.percentile(self.fundamental_frequencies, 25)\n",
    "        self.iqr = np.percentile(self.fundamental_frequencies, 75) - self.q25\n",
    "        self.dfrange = self.fundamental_frequencies[-1] - self.fundamental_frequencies[0]\n",
    "        self.stdev = np.std(self.fundamental_frequencies)\n",
    "        self.skew = skew(self.fundamental_frequencies)\n",
    "        self.mfcc = librosa.feature.mfcc(y = waveform, sr = sampling_rate, htk = False, n_mfcc = 12)\n",
    "        self.mfcc = np.array(list(map(lambda x: np.mean(x), self.mfcc)))\n",
    "        self.label = label\n",
    "    def __str__(self):\n",
    "        return f\"{self.path}:\\n\\tmeanfun: {self.meanfun}\\n\\tq25: {self.q25}\\n\\tiqr: {self.iqr}\\n\\tdfrange: {self.dfrange}\\n\\tstdev: {self.stdev}\\n\\tskew: {self.skew}\\n\\tmfcc: {self.mfcc}\\n\\tlabel: {self.label}\"\n",
    "\n",
    "def get_label(path):\n",
    "    \"\"\"\n",
    "    Returns the label of the file based on the path of the file\n",
    "    \"\"\"\n",
    "    words = path.split(\"/\")\n",
    "    gender = words[1]\n",
    "    if(gender == 'Male'):\n",
    "        return 0\n",
    "    else:\n",
    "        return 1\n",
    "\n",
    "def load_audio(path):\n",
    "    \"\"\"\n",
    "    Loads the audio from path and creates file_data object with features\n",
    "    \"\"\"\n",
    "    waveform, sampling_rate = librosa.load(path)\n",
    "    label = get_label(path)\n",
    "#     print(label)\n",
    "    fundamental_frequencies = []\n",
    "    # Calculate \"by hand\" using the algorithm from the tutorials\n",
    "    if not FUNDAMENTAL_FREQUENCY_USE_LIBROSA:\n",
    "        #We want to detect down to 50Hz, so we need 40 ms\n",
    "        divide_into_n_parts = (waveform.shape[0]/sampling_rate)*25 # Divide into 40ms intervals\n",
    "        if(int(divide_into_n_parts) != divide_into_n_parts):\n",
    "            divide_into_n_parts = int(divide_into_n_parts) + 1\n",
    "        \n",
    "        splitted = np.array_split(waveform, divide_into_n_parts)\n",
    "        \n",
    "        for i in range(len(splitted)):\n",
    "            section = splitted[i]\n",
    "            # Additional padding at the end that won't affect results much but will get rid of edge cases\n",
    "            if len(section) % 2 == 1:\n",
    "                section = np.append(section, 0) # should not happen, but if it does, it will make calculations much easier without losing much\n",
    "            \n",
    "            # Algorithm from the tutorial\n",
    "            middle_right_index = len(section) // 2 + 1\n",
    "            mutual_coefficients = []\n",
    "            for j in range(2, len(section) // 2):\n",
    "                left = section[middle_right_index - j : middle_right_index]\n",
    "                right = section[middle_right_index : middle_right_index + j]\n",
    "                normalization_coeff = (np.linalg.norm(left) * np.linalg.norm(right))\n",
    "                normalized_mutual_coefficient = np.dot(left, right) / normalization_coeff if normalization_coeff != 0 else 0\n",
    "                mutual_coefficients.append(normalized_mutual_coefficient)\n",
    "            \n",
    "            max_value = max(mutual_coefficients)\n",
    "            max_index = mutual_coefficients.index(max_value) + 2\n",
    "            f0 = sampling_rate/max_index\n",
    "            # If result is not in specified range (the range matches the one in librosa version) we assume there was no sound there\n",
    "            if librosa.note_to_hz('C2') < f0 and f0 < librosa.note_to_hz('C7'): # To match librosa's range\n",
    "                fundamental_frequencies.append(round(f0))\n",
    "            else:\n",
    "                fundamental_frequencies.append(np.nan)\n",
    "    # Librosa implementation\n",
    "    else:\n",
    "        fundamental_frequencies, _, _ = librosa.pyin(waveform, fmin=librosa.note_to_hz('C2'), fmax=librosa.note_to_hz('C7'), sr=sampling_rate)\n",
    "        print(fundamental_frequencies.shape)\n",
    "        \n",
    "    # Plot the spectrogram with fundamental frequency if enabled (and we used librosa)\n",
    "    if SHOW_SPECTOGRAM_WITH_FUNDAMENTAL_FREQUENCY:\n",
    "        S = np.abs(librosa.stft(waveform))\n",
    "        times = librosa.times_like(fundamental_frequencies)\n",
    "        fig, ax = plt.subplots()\n",
    "        img = librosa.display.specshow(librosa.amplitude_to_db(S, ref=np.max), y_axis='log', x_axis='time', ax=ax)\n",
    "        ax.set_title('Power spectrogram with fundamental frequency')\n",
    "        ax.plot(times, fundamental_frequencies, label='f0', color='cyan', linewidth=3)\n",
    "        fig.colorbar(img, ax=ax, format=\"%+2.0f dB\")\n",
    "        plt.show()\n",
    "\n",
    "    return file_data(path, fundamental_frequencies, waveform, sampling_rate, label)\n",
    "\n",
    "\n",
    "#print(load_audio(\"Dataset/Female/0.wav\"))\n",
    "#print(load_audio(\"Dataset/Female/1.wav\"))\n",
    "#print(load_audio(\"Dataset/Male/0.wav\"))\n",
    "#print(load_audio(\"Dataset/Male/1.wav\"))"
   ]
  },
  {
   "cell_type": "code",
   "execution_count": 2,
   "metadata": {
    "scrolled": true
   },
   "outputs": [
    {
     "data": {
      "application/vnd.jupyter.widget-view+json": {
       "model_id": "a27663d61d1f48e9b60aa60c66900d73",
       "version_major": 2,
       "version_minor": 0
      },
      "text/plain": [
       "  0%|          | 0/250 [00:00<?, ?it/s]"
      ]
     },
     "metadata": {},
     "output_type": "display_data"
    },
    {
     "data": {
      "application/vnd.jupyter.widget-view+json": {
       "model_id": "f32613a1b30f449095d8185ee6e61b09",
       "version_major": 2,
       "version_minor": 0
      },
      "text/plain": [
       "  0%|          | 0/250 [00:00<?, ?it/s]"
      ]
     },
     "metadata": {},
     "output_type": "display_data"
    }
   ],
   "source": [
    "import os\n",
    "import pandas as pd\n",
    "# import librosa\n",
    "# import numpy as np\n",
    "from sklearn.model_selection import train_test_split\n",
    "from sklearn.svm import SVC\n",
    "from tqdm.notebook import tqdm\n",
    "# Define a wrapper function that takes in the input arguments for the load_audio function,\n",
    "# calls the load_audio function with those arguments, and stores the output in a dictionary\n",
    "def load_audio_to_df(path):\n",
    "    audio_data = load_audio(path)\n",
    "    data = {\n",
    "        'path': audio_data.path,\n",
    "        'fundamental_frequencies': audio_data.fundamental_frequencies,\n",
    "        'meanfun': audio_data.meanfun,\n",
    "        'q25': audio_data.q25,\n",
    "        'iqr': audio_data.iqr,\n",
    "        'dfrange': audio_data.dfrange,\n",
    "        'stdev': audio_data.stdev,\n",
    "        'skew': audio_data.skew,\n",
    "        #'mfcc': audio_data.mfcc,\n",
    "        'label': audio_data.label,\n",
    "        'mfcc1': audio_data.mfcc[0],\n",
    "        'mfcc2': audio_data.mfcc[1],\n",
    "        'mfcc3': audio_data.mfcc[2],\n",
    "        'mfcc4': audio_data.mfcc[3],\n",
    "        'mfcc5': audio_data.mfcc[4],\n",
    "        'mfcc6': audio_data.mfcc[5],\n",
    "        'mfcc7': audio_data.mfcc[6],\n",
    "        'mfcc8': audio_data.mfcc[7],\n",
    "        'mfcc9': audio_data.mfcc[8],\n",
    "        'mfcc10': audio_data.mfcc[9],\n",
    "        'mfcc11': audio_data.mfcc[10],\n",
    "        'mfcc12': audio_data.mfcc[11]\n",
    "    }\n",
    "    return data\n",
    "\n",
    "# Define an empty list to store the data for each audio file\n",
    "df_list = []\n",
    "\n",
    "# Set the paths to the directories\n",
    "wave_files_female = 'Dataset/Female'\n",
    "wave_files_male = 'Dataset/Male'\n",
    "\n",
    "# Get a list of all the files in the female directory\n",
    "female_files = os.listdir(wave_files_female)\n",
    "\n",
    "# Get a list of all the files in the male directory\n",
    "male_files = os.listdir(wave_files_male)\n",
    "# print(female_files)\n",
    "\n",
    "# Iterate over the list of audio files\n",
    "for audio_file in tqdm(female_files):\n",
    "    # Load the female audio data and store it in the df_list\n",
    "    df_list.append(load_audio_to_df(wave_files_female+'/'+audio_file))\n",
    "\n",
    "for audio_file in tqdm(male_files):\n",
    "    # Load the male audio data and store it in the df_list\n",
    "    df_list.append(load_audio_to_df(wave_files_male+'/'+audio_file))\n",
    "# Convert the list of dictionaries to a dataframe\n",
    "data = pd.DataFrame(df_list)"
   ]
  },
  {
   "cell_type": "code",
   "execution_count": 3,
   "metadata": {
    "scrolled": false
   },
   "outputs": [
    {
     "data": {
      "text/html": [
       "<div>\n",
       "<style scoped>\n",
       "    .dataframe tbody tr th:only-of-type {\n",
       "        vertical-align: middle;\n",
       "    }\n",
       "\n",
       "    .dataframe tbody tr th {\n",
       "        vertical-align: top;\n",
       "    }\n",
       "\n",
       "    .dataframe thead th {\n",
       "        text-align: right;\n",
       "    }\n",
       "</style>\n",
       "<table border=\"1\" class=\"dataframe\">\n",
       "  <thead>\n",
       "    <tr style=\"text-align: right;\">\n",
       "      <th></th>\n",
       "      <th>path</th>\n",
       "      <th>fundamental_frequencies</th>\n",
       "      <th>meanfun</th>\n",
       "      <th>q25</th>\n",
       "      <th>iqr</th>\n",
       "      <th>dfrange</th>\n",
       "      <th>stdev</th>\n",
       "      <th>skew</th>\n",
       "      <th>label</th>\n",
       "      <th>mfcc1</th>\n",
       "      <th>...</th>\n",
       "      <th>mfcc3</th>\n",
       "      <th>mfcc4</th>\n",
       "      <th>mfcc5</th>\n",
       "      <th>mfcc6</th>\n",
       "      <th>mfcc7</th>\n",
       "      <th>mfcc8</th>\n",
       "      <th>mfcc9</th>\n",
       "      <th>mfcc10</th>\n",
       "      <th>mfcc11</th>\n",
       "      <th>mfcc12</th>\n",
       "    </tr>\n",
       "  </thead>\n",
       "  <tbody>\n",
       "    <tr>\n",
       "      <th>0</th>\n",
       "      <td>Dataset/Female/0.wav</td>\n",
       "      <td>[84, 126, 142, 153, 159, 160, 160, 163, 163, 1...</td>\n",
       "      <td>335.217822</td>\n",
       "      <td>248.00</td>\n",
       "      <td>81.00</td>\n",
       "      <td>1294</td>\n",
       "      <td>219.422943</td>\n",
       "      <td>3.053616</td>\n",
       "      <td>1</td>\n",
       "      <td>-273.213531</td>\n",
       "      <td>...</td>\n",
       "      <td>-45.650753</td>\n",
       "      <td>67.070824</td>\n",
       "      <td>-32.634377</td>\n",
       "      <td>3.872809</td>\n",
       "      <td>-18.907183</td>\n",
       "      <td>3.297964</td>\n",
       "      <td>-1.834899</td>\n",
       "      <td>-8.221637</td>\n",
       "      <td>-4.426149</td>\n",
       "      <td>-4.183224</td>\n",
       "    </tr>\n",
       "    <tr>\n",
       "      <th>1</th>\n",
       "      <td>Dataset/Female/1.wav</td>\n",
       "      <td>[98, 127, 133, 170, 178, 179, 179, 190, 190, 1...</td>\n",
       "      <td>376.705882</td>\n",
       "      <td>192.25</td>\n",
       "      <td>191.50</td>\n",
       "      <td>1907</td>\n",
       "      <td>389.368307</td>\n",
       "      <td>2.814954</td>\n",
       "      <td>1</td>\n",
       "      <td>-320.697968</td>\n",
       "      <td>...</td>\n",
       "      <td>-54.508400</td>\n",
       "      <td>33.786327</td>\n",
       "      <td>-47.468594</td>\n",
       "      <td>1.630078</td>\n",
       "      <td>-36.234894</td>\n",
       "      <td>-7.244123</td>\n",
       "      <td>-3.775545</td>\n",
       "      <td>-14.015665</td>\n",
       "      <td>-0.841133</td>\n",
       "      <td>-15.082652</td>\n",
       "    </tr>\n",
       "    <tr>\n",
       "      <th>2</th>\n",
       "      <td>Dataset/Female/10.wav</td>\n",
       "      <td>[80, 83, 98, 100, 102, 104, 110, 117, 120, 127...</td>\n",
       "      <td>528.950000</td>\n",
       "      <td>103.50</td>\n",
       "      <td>1139.50</td>\n",
       "      <td>1616</td>\n",
       "      <td>605.326563</td>\n",
       "      <td>0.918588</td>\n",
       "      <td>1</td>\n",
       "      <td>-432.321808</td>\n",
       "      <td>...</td>\n",
       "      <td>-28.376503</td>\n",
       "      <td>39.545177</td>\n",
       "      <td>-10.863744</td>\n",
       "      <td>14.158586</td>\n",
       "      <td>-0.175361</td>\n",
       "      <td>5.115940</td>\n",
       "      <td>-9.835872</td>\n",
       "      <td>-8.614990</td>\n",
       "      <td>-8.713866</td>\n",
       "      <td>-14.238309</td>\n",
       "    </tr>\n",
       "    <tr>\n",
       "      <th>3</th>\n",
       "      <td>Dataset/Female/100.wav</td>\n",
       "      <td>[89, 103, 103, 158, 165, 171, 172, 174, 174, 1...</td>\n",
       "      <td>560.727273</td>\n",
       "      <td>187.00</td>\n",
       "      <td>288.50</td>\n",
       "      <td>1916</td>\n",
       "      <td>651.817913</td>\n",
       "      <td>1.394561</td>\n",
       "      <td>1</td>\n",
       "      <td>-269.706085</td>\n",
       "      <td>...</td>\n",
       "      <td>-68.981606</td>\n",
       "      <td>43.187744</td>\n",
       "      <td>-19.676870</td>\n",
       "      <td>8.518633</td>\n",
       "      <td>-14.607292</td>\n",
       "      <td>-4.095662</td>\n",
       "      <td>-4.098593</td>\n",
       "      <td>1.616220</td>\n",
       "      <td>-3.007251</td>\n",
       "      <td>-7.093972</td>\n",
       "    </tr>\n",
       "    <tr>\n",
       "      <th>4</th>\n",
       "      <td>Dataset/Female/101.wav</td>\n",
       "      <td>[106, 108, 143, 158, 160, 161, 165, 165, 167, ...</td>\n",
       "      <td>524.700000</td>\n",
       "      <td>175.25</td>\n",
       "      <td>718.25</td>\n",
       "      <td>1899</td>\n",
       "      <td>509.247971</td>\n",
       "      <td>1.262629</td>\n",
       "      <td>1</td>\n",
       "      <td>-328.830566</td>\n",
       "      <td>...</td>\n",
       "      <td>-33.600502</td>\n",
       "      <td>37.890385</td>\n",
       "      <td>-17.192480</td>\n",
       "      <td>10.857853</td>\n",
       "      <td>-21.298836</td>\n",
       "      <td>2.551567</td>\n",
       "      <td>-1.104004</td>\n",
       "      <td>3.557597</td>\n",
       "      <td>2.814285</td>\n",
       "      <td>-0.297360</td>\n",
       "    </tr>\n",
       "  </tbody>\n",
       "</table>\n",
       "<p>5 rows × 21 columns</p>\n",
       "</div>"
      ],
      "text/plain": [
       "                     path                            fundamental_frequencies  \\\n",
       "0    Dataset/Female/0.wav  [84, 126, 142, 153, 159, 160, 160, 163, 163, 1...   \n",
       "1    Dataset/Female/1.wav  [98, 127, 133, 170, 178, 179, 179, 190, 190, 1...   \n",
       "2   Dataset/Female/10.wav  [80, 83, 98, 100, 102, 104, 110, 117, 120, 127...   \n",
       "3  Dataset/Female/100.wav  [89, 103, 103, 158, 165, 171, 172, 174, 174, 1...   \n",
       "4  Dataset/Female/101.wav  [106, 108, 143, 158, 160, 161, 165, 165, 167, ...   \n",
       "\n",
       "      meanfun     q25      iqr  dfrange       stdev      skew  label  \\\n",
       "0  335.217822  248.00    81.00     1294  219.422943  3.053616      1   \n",
       "1  376.705882  192.25   191.50     1907  389.368307  2.814954      1   \n",
       "2  528.950000  103.50  1139.50     1616  605.326563  0.918588      1   \n",
       "3  560.727273  187.00   288.50     1916  651.817913  1.394561      1   \n",
       "4  524.700000  175.25   718.25     1899  509.247971  1.262629      1   \n",
       "\n",
       "        mfcc1  ...      mfcc3      mfcc4      mfcc5      mfcc6      mfcc7  \\\n",
       "0 -273.213531  ... -45.650753  67.070824 -32.634377   3.872809 -18.907183   \n",
       "1 -320.697968  ... -54.508400  33.786327 -47.468594   1.630078 -36.234894   \n",
       "2 -432.321808  ... -28.376503  39.545177 -10.863744  14.158586  -0.175361   \n",
       "3 -269.706085  ... -68.981606  43.187744 -19.676870   8.518633 -14.607292   \n",
       "4 -328.830566  ... -33.600502  37.890385 -17.192480  10.857853 -21.298836   \n",
       "\n",
       "      mfcc8     mfcc9     mfcc10    mfcc11     mfcc12  \n",
       "0  3.297964 -1.834899  -8.221637 -4.426149  -4.183224  \n",
       "1 -7.244123 -3.775545 -14.015665 -0.841133 -15.082652  \n",
       "2  5.115940 -9.835872  -8.614990 -8.713866 -14.238309  \n",
       "3 -4.095662 -4.098593   1.616220 -3.007251  -7.093972  \n",
       "4  2.551567 -1.104004   3.557597  2.814285  -0.297360  \n",
       "\n",
       "[5 rows x 21 columns]"
      ]
     },
     "execution_count": 3,
     "metadata": {},
     "output_type": "execute_result"
    }
   ],
   "source": [
    "data.head()"
   ]
  },
  {
   "cell_type": "code",
   "execution_count": 20,
   "metadata": {},
   "outputs": [
    {
     "name": "stdout",
     "output_type": "stream",
     "text": [
      "Training cases: 400\n",
      "Test cases: 100\n"
     ]
    }
   ],
   "source": [
    "import pandas as pd\n",
    "import sklearn\n",
    "from sklearn.svm import SVC\n",
    "\n",
    "# Split the data into features and labels\n",
    "# X = data[['meanfun', 'q25', 'iqr', 'dfrange', 'stdev', 'skew']]\n",
    "\n",
    "X = data[['meanfun', 'q25', 'iqr', 'dfrange', 'stdev', 'skew', 'mfcc1', 'mfcc2', 'mfcc3','mfcc4','mfcc5','mfcc6',\n",
    "'mfcc7','mfcc8','mfcc9','mfcc10','mfcc11','mfcc12']]\n",
    "\n",
    "y = data['label']\n",
    "\n",
    "# Split the data into training and test sets\n",
    "X_train, X_test, y_train, y_test = sklearn.model_selection.train_test_split(X, y, test_size=0.2)\n",
    "\n",
    "print ('Training cases: %d\\nTest cases: %d' % (X_train.shape[0], X_test.shape[0]))\n"
   ]
  },
  {
   "cell_type": "markdown",
   "metadata": {},
   "source": [
    "SVM CLASSIFICATION"
   ]
  },
  {
   "cell_type": "code",
   "execution_count": 145,
   "metadata": {},
   "outputs": [
    {
     "name": "stdout",
     "output_type": "stream",
     "text": [
      "Predicted labels:  [0 0 1 1 1 1 1 0 0 0 0 1 1 1 1 1 0 0 0 1 0 0 0 1 0 0 1 1 0 0 1 0 1 0 1 1 0\n",
      " 0 1 0 0 0 0 0 1 1 1 0 1 0 1 0 0 0 0 1 0 1 0 1 1 0 1 1 1 0 0 0 1 1 1 1 1 1\n",
      " 1 1 1 0 1 1 1 1 1 1 1 0 1 0 1 0 1 1 1 1 1 1 0 1 1 1]\n",
      "Actual labels:     313    0\n",
      "328    0\n",
      "73     1\n",
      "402    0\n",
      "210    1\n",
      "      ..\n",
      "191    1\n",
      "368    0\n",
      "32     1\n",
      "95     1\n",
      "200    1\n",
      "Name: label, Length: 100, dtype: int64\n",
      "Accuracy: 0.82\n"
     ]
    }
   ],
   "source": [
    "clf = SVC(kernel='linear',probability=True)\n",
    "\n",
    "# Train the classifier on the training data\n",
    "clf.fit(X_train, y_train)\n",
    "\n",
    "#Printing Prediction\n",
    "predictions = clf.predict(X_test)\n",
    "print('Predicted labels: ', predictions)\n",
    "print('Actual labels:    ' ,y_test)\n",
    "\n",
    "# Test the classifier on the test data\n",
    "accuracy = clf.score(X_test, y_test)\n",
    "\n",
    "print(f\"Accuracy: {accuracy}\")"
   ]
  },
  {
   "cell_type": "code",
   "execution_count": 22,
   "metadata": {},
   "outputs": [],
   "source": [
    "svm_accuracy = accuracy"
   ]
  },
  {
   "cell_type": "markdown",
   "metadata": {},
   "source": [
    "Classification Report"
   ]
  },
  {
   "cell_type": "code",
   "execution_count": 146,
   "metadata": {},
   "outputs": [
    {
     "name": "stdout",
     "output_type": "stream",
     "text": [
      "              precision    recall  f1-score   support\n",
      "\n",
      "           0       0.86      0.75      0.80        48\n",
      "           1       0.79      0.88      0.84        52\n",
      "\n",
      "    accuracy                           0.82       100\n",
      "   macro avg       0.83      0.82      0.82       100\n",
      "weighted avg       0.82      0.82      0.82       100\n",
      "\n"
     ]
    }
   ],
   "source": [
    "from sklearn.metrics import classification_report\n",
    "\n",
    "print(classification_report(y_test, predictions))"
   ]
  },
  {
   "cell_type": "markdown",
   "metadata": {},
   "source": [
    "Precision and Recall"
   ]
  },
  {
   "cell_type": "code",
   "execution_count": 24,
   "metadata": {},
   "outputs": [
    {
     "name": "stdout",
     "output_type": "stream",
     "text": [
      "Overall Precision: 0.7931034482758621\n",
      "Overall Recall: 0.8846153846153846\n"
     ]
    }
   ],
   "source": [
    "from sklearn.metrics import precision_score, recall_score\n",
    "\n",
    "print(\"Overall Precision:\",precision_score(y_test, predictions))\n",
    "print(\"Overall Recall:\",recall_score(y_test, predictions))"
   ]
  },
  {
   "cell_type": "code",
   "execution_count": 143,
   "metadata": {
    "collapsed": true
   },
   "outputs": [
    {
     "data": {
      "text/plain": [
       "sklearn.metrics._plot.precision_recall_curve.PrecisionRecallDisplay"
      ]
     },
     "execution_count": 143,
     "metadata": {},
     "output_type": "execute_result"
    },
    {
     "data": {
      "image/png": "[encoded data removed]",
      "text/plain": [
       "<Figure size 640x480 with 1 Axes>"
      ]
     },
     "metadata": {},
     "output_type": "display_data"
    }
   ],
   "source": [
    "from sklearn.metrics import PrecisionRecallDisplay\n",
    "\n",
    "y_decision_score = clf.decision_function(X_test)\n",
    "\n",
    "display = PrecisionRecallDisplay.from_predictions(\n",
    "    y_test, y_decision_score,name=\"LinearSVC\"\n",
    ")\n",
    "# display.ax_.set_title(\"2-class Precision-Recall curve\")\n",
    "type(display)"
   ]
  },
  {
   "cell_type": "code",
   "execution_count": 105,
   "metadata": {},
   "outputs": [
    {
     "data": {
      "image/png": "[encoded data removed]",
      "text/plain": [
       "<Figure size 640x480 with 1 Axes>"
      ]
     },
     "metadata": {},
     "output_type": "display_data"
    }
   ],
   "source": [
    "from sklearn.metrics import precision_recall_curve\n",
    "import matplotlib.pyplot as plt\n",
    "\n",
    "\n",
    "\n",
    "# Compute the precision recall curve\n",
    "precision, recall, thresholds = precision_recall_curve(y_test, y_decision_score)\n",
    "\n",
    "# Plot the precision recall curve\n",
    "plt.plot(recall, precision)\n",
    "plt.xlabel('Recall')\n",
    "plt.ylabel('Precision')\n",
    "plt.savefig('precision_recall_curve.png')\n",
    "plt.show()\n"
   ]
  },
  {
   "cell_type": "markdown",
   "metadata": {},
   "source": [
    "SVM Confusion Matrix"
   ]
  },
  {
   "cell_type": "code",
   "execution_count": 127,
   "metadata": {},
   "outputs": [
    {
     "name": "stdout",
     "output_type": "stream",
     "text": [
      "[[32 16]\n",
      " [14 38]]\n"
     ]
    }
   ],
   "source": [
    "from sklearn.metrics import confusion_matrix\n",
    "\n",
    "# Print the confusion matrix\n",
    "svm_cm = confusion_matrix(y_test, predictions)\n",
    "print (cm)"
   ]
  },
  {
   "cell_type": "code",
   "execution_count": 128,
   "metadata": {},
   "outputs": [
    {
     "data": {
      "image/png": "[encoded data removed]",
      "text/plain": [
       "<Figure size 640x480 with 2 Axes>"
      ]
     },
     "metadata": {},
     "output_type": "display_data"
    }
   ],
   "source": [
    "import seaborn as sns\n",
    "\n",
    "# Example confusion matrix\n",
    "\n",
    "\n",
    "# Create a heatmap of the confusion matrix\n",
    "sns.heatmap(svm_cm, annot=True, fmt='d', cmap='YlGnBu')\n",
    "\n",
    "# Add x and y axis labels\n",
    "plt.xlabel('Predicted Label')\n",
    "plt.ylabel('True Label')\n",
    "\n",
    "plt.savefig('svm_confusion_matrix.png')\n",
    "# Show the plot\n",
    "plt.show()"
   ]
  },
  {
   "cell_type": "markdown",
   "metadata": {},
   "source": [
    "SVM Proba Score"
   ]
  },
  {
   "cell_type": "code",
   "execution_count": 147,
   "metadata": {
    "collapsed": true
   },
   "outputs": [
    {
     "name": "stdout",
     "output_type": "stream",
     "text": [
      "[[9.17868880e-01 8.21311200e-02]\n",
      " [9.74931280e-01 2.50687204e-02]\n",
      " [2.33898055e-01 7.66101945e-01]\n",
      " [2.17156738e-01 7.82843262e-01]\n",
      " [3.77767479e-01 6.22232521e-01]\n",
      " [6.58401904e-02 9.34159810e-01]\n",
      " [7.39422398e-02 9.26057760e-01]\n",
      " [8.52852803e-01 1.47147197e-01]\n",
      " [8.57486609e-01 1.42513391e-01]\n",
      " [6.64371164e-01 3.35628836e-01]\n",
      " [6.13729642e-01 3.86270358e-01]\n",
      " [7.56228601e-02 9.24377140e-01]\n",
      " [5.40214355e-02 9.45978565e-01]\n",
      " [3.72927094e-01 6.27072906e-01]\n",
      " [1.56397566e-01 8.43602434e-01]\n",
      " [1.34169581e-02 9.86583042e-01]\n",
      " [9.28486068e-01 7.15139315e-02]\n",
      " [9.40580886e-01 5.94191142e-02]\n",
      " [9.75568659e-01 2.44313407e-02]\n",
      " [1.19974391e-01 8.80025609e-01]\n",
      " [6.15232171e-01 3.84767829e-01]\n",
      " [9.43094299e-01 5.69057007e-02]\n",
      " [9.79264807e-01 2.07351925e-02]\n",
      " [3.55293737e-02 9.64470626e-01]\n",
      " [8.48163223e-01 1.51836777e-01]\n",
      " [8.47514042e-01 1.52485958e-01]\n",
      " [4.85706203e-01 5.14293797e-01]\n",
      " [1.32458690e-01 8.67541310e-01]\n",
      " [9.59750604e-01 4.02493956e-02]\n",
      " [9.76472786e-01 2.35272138e-02]\n",
      " [7.67631410e-02 9.23236859e-01]\n",
      " [9.93480014e-01 6.51998645e-03]\n",
      " [1.63712862e-01 8.36287138e-01]\n",
      " [9.28966758e-01 7.10332423e-02]\n",
      " [2.23065682e-01 7.76934318e-01]\n",
      " [5.45438859e-02 9.45456114e-01]\n",
      " [9.81957081e-01 1.80429189e-02]\n",
      " [9.96614845e-01 3.38515495e-03]\n",
      " [1.04465721e-01 8.95534279e-01]\n",
      " [9.83154222e-01 1.68457782e-02]\n",
      " [6.90860023e-01 3.09139977e-01]\n",
      " [9.67534601e-01 3.24653993e-02]\n",
      " [9.75419895e-01 2.45801055e-02]\n",
      " [8.97381966e-01 1.02618034e-01]\n",
      " [2.06922772e-01 7.93077228e-01]\n",
      " [3.66172696e-01 6.33827304e-01]\n",
      " [9.14330476e-03 9.90856695e-01]\n",
      " [9.82165515e-01 1.78344855e-02]\n",
      " [3.89853685e-02 9.61014631e-01]\n",
      " [9.57503169e-01 4.24968313e-02]\n",
      " [2.07681765e-02 9.79231824e-01]\n",
      " [8.96028302e-01 1.03971698e-01]\n",
      " [9.64922283e-01 3.50777169e-02]\n",
      " [9.98198675e-01 1.80132542e-03]\n",
      " [9.34410453e-01 6.55895466e-02]\n",
      " [2.18828710e-09 9.99999998e-01]\n",
      " [9.51418931e-01 4.85810693e-02]\n",
      " [1.04647402e-02 9.89535260e-01]\n",
      " [6.98592455e-01 3.01407545e-01]\n",
      " [1.36398938e-02 9.86360106e-01]\n",
      " [7.62472462e-02 9.23752754e-01]\n",
      " [9.51132849e-01 4.88671508e-02]\n",
      " [1.70851832e-02 9.82914817e-01]\n",
      " [4.64980793e-02 9.53501921e-01]\n",
      " [2.72333990e-01 7.27666010e-01]\n",
      " [9.34316166e-01 6.56838336e-02]\n",
      " [9.02473127e-01 9.75268727e-02]\n",
      " [8.58360925e-01 1.41639075e-01]\n",
      " [1.59822861e-01 8.40177139e-01]\n",
      " [1.23210307e-01 8.76789693e-01]\n",
      " [3.13031635e-01 6.86968365e-01]\n",
      " [2.32942607e-01 7.67057393e-01]\n",
      " [2.33191154e-02 9.76680885e-01]\n",
      " [4.29283996e-01 5.70716004e-01]\n",
      " [1.01219897e-02 9.89878010e-01]\n",
      " [2.50329533e-01 7.49670467e-01]\n",
      " [8.19921082e-02 9.18007892e-01]\n",
      " [7.07281623e-01 2.92718377e-01]\n",
      " [6.22202581e-03 9.93777974e-01]\n",
      " [1.85253360e-01 8.14746640e-01]\n",
      " [2.82037273e-01 7.17962727e-01]\n",
      " [1.23680353e-01 8.76319647e-01]\n",
      " [1.78821538e-01 8.21178462e-01]\n",
      " [3.97133476e-01 6.02866524e-01]\n",
      " [7.54470419e-02 9.24552958e-01]\n",
      " [6.92540077e-01 3.07459923e-01]\n",
      " [3.85946573e-01 6.14053427e-01]\n",
      " [7.81891849e-01 2.18108151e-01]\n",
      " [5.08809492e-01 4.91190508e-01]\n",
      " [9.54065561e-01 4.59344388e-02]\n",
      " [2.07769125e-02 9.79223087e-01]\n",
      " [5.15977627e-01 4.84022373e-01]\n",
      " [6.55959119e-02 9.34404088e-01]\n",
      " [2.68776010e-02 9.73122399e-01]\n",
      " [1.39933766e-05 9.99986007e-01]\n",
      " [7.32175530e-03 9.92678245e-01]\n",
      " [9.85114276e-01 1.48857243e-02]\n",
      " [4.29365131e-02 9.57063487e-01]\n",
      " [8.56502294e-02 9.14349771e-01]\n",
      " [1.65889517e-06 9.99998341e-01]]\n"
     ]
    }
   ],
   "source": [
    "y_scores = clf.predict_proba(X_test)\n",
    "print(y_scores)"
   ]
  },
  {
   "cell_type": "markdown",
   "metadata": {},
   "source": [
    "SVM ROC Chart"
   ]
  },
  {
   "cell_type": "code",
   "execution_count": 148,
   "metadata": {},
   "outputs": [
    {
     "data": {
      "image/png": "[encoded data removed]",
      "text/plain": [
       "<Figure size 600x600 with 1 Axes>"
      ]
     },
     "metadata": {},
     "output_type": "display_data"
    }
   ],
   "source": [
    "from sklearn.metrics import roc_curve\n",
    "from sklearn.metrics import confusion_matrix\n",
    "import matplotlib\n",
    "import matplotlib.pyplot as plt\n",
    "%matplotlib inline\n",
    "\n",
    "# calculate ROC curve\n",
    "fpr, tpr, thresholds = roc_curve(y_test, y_scores[:,1])\n",
    "\n",
    "# plot ROC curve\n",
    "fig = plt.figure(figsize=(6, 6))\n",
    "# Plot the diagonal 50% line\n",
    "plt.plot([0, 1], [0, 1], 'k--')\n",
    "# Plot the FPR and TPR achieved by our model\n",
    "plt.plot(fpr, tpr)\n",
    "plt.xlabel('False Positive Rate')\n",
    "plt.ylabel('True Positive Rate')\n",
    "plt.title('ROC Curve')\n",
    "plt.savefig('SVG_Roc_Curve.png')\n",
    "plt.show()"
   ]
  },
  {
   "cell_type": "markdown",
   "metadata": {},
   "source": [
    "# KNN CLASSIFICATION IMPLEMENTATION"
   ]
  },
  {
   "cell_type": "code",
   "execution_count": 64,
   "metadata": {},
   "outputs": [],
   "source": [
    "knn_accuracy_list = []"
   ]
  },
  {
   "cell_type": "code",
   "execution_count": 129,
   "metadata": {
    "scrolled": false
   },
   "outputs": [
    {
     "name": "stdout",
     "output_type": "stream",
     "text": [
      "Predicted labels:  [1 0 0 1 0 0 1 0 0 1 0 0 0 0 0 1 0 0 0 1 0 1 0 1 0 1 1 1 1 0 0 0 1 0 1 1 0\n",
      " 0 1 0 0 0 1 0 0 1 1 0 1 0 1 0 0 0 0 0 0 1 1 1 1 0 1 1 1 0 0 0 1 1 1 0 0 0\n",
      " 1 0 0 1 1 0 1 1 1 0 0 0 1 0 1 1 1 1 0 0 1 0 0 1 1 1]\n",
      "Actual labels:     313    0\n",
      "328    0\n",
      "73     1\n",
      "402    0\n",
      "210    1\n",
      "      ..\n",
      "191    1\n",
      "368    0\n",
      "32     1\n",
      "95     1\n",
      "200    1\n",
      "Name: label, Length: 100, dtype: int64\n",
      "Accuracy: 0.7\n"
     ]
    },
    {
     "name": "stderr",
     "output_type": "stream",
     "text": [
      "C:\\Users\\gupta\\anaconda3\\lib\\site-packages\\sklearn\\neighbors\\_classification.py:228: FutureWarning: Unlike other reduction functions (e.g. `skew`, `kurtosis`), the default behavior of `mode` typically preserves the axis it acts along. In SciPy 1.11.0, this behavior will change: the default value of `keepdims` will become False, the `axis` over which the statistic is taken will be eliminated, and the value None will no longer be accepted. Set `keepdims` to True or False to avoid this warning.\n",
      "  mode, _ = stats.mode(_y[neigh_ind, k], axis=1)\n",
      "C:\\Users\\gupta\\anaconda3\\lib\\site-packages\\sklearn\\neighbors\\_classification.py:228: FutureWarning: Unlike other reduction functions (e.g. `skew`, `kurtosis`), the default behavior of `mode` typically preserves the axis it acts along. In SciPy 1.11.0, this behavior will change: the default value of `keepdims` will become False, the `axis` over which the statistic is taken will be eliminated, and the value None will no longer be accepted. Set `keepdims` to True or False to avoid this warning.\n",
      "  mode, _ = stats.mode(_y[neigh_ind, k], axis=1)\n"
     ]
    }
   ],
   "source": [
    "import sklearn\n",
    "from sklearn.neighbors import KNeighborsClassifier\n",
    "\n",
    "\n",
    "# Create a KNN classifier\n",
    "knn = KNeighborsClassifier(n_neighbors=4)\n",
    "\n",
    "# Train the classifier on the training data\n",
    "knn.fit(X_train, y_train)\n",
    "\n",
    "\n",
    "#Printing Prediction\n",
    "knn_predictions = knn.predict(X_test)\n",
    "print('Predicted labels: ', knn_predictions)\n",
    "print('Actual labels:    ' ,y_test)\n",
    "\n",
    "# Test the classifier on the test data\n",
    "knn_accuracy = knn.score(X_test, y_test)\n",
    "# knn_accuracy_list.append(knn_accuracy)\n",
    "# print(knn_accuracy_list)\n",
    "print(f\"Accuracy: {knn_accuracy}\")"
   ]
  },
  {
   "cell_type": "markdown",
   "metadata": {},
   "source": [
    "## KNN Classification Report"
   ]
  },
  {
   "cell_type": "code",
   "execution_count": 130,
   "metadata": {
    "scrolled": false
   },
   "outputs": [
    {
     "name": "stdout",
     "output_type": "stream",
     "text": [
      "              precision    recall  f1-score   support\n",
      "\n",
      "      Male 0       0.67      0.75      0.71        48\n",
      "    Female 1       0.74      0.65      0.69        52\n",
      "\n",
      "    accuracy                           0.70       100\n",
      "   macro avg       0.70      0.70      0.70       100\n",
      "weighted avg       0.70      0.70      0.70       100\n",
      "\n"
     ]
    }
   ],
   "source": [
    "from sklearn. metrics import classification_report\n",
    "target_names = ['Male 0', 'Female 1']\n",
    "report = classification_report(y_test, knn_predictions,target_names=target_names)\n",
    "print(report)"
   ]
  },
  {
   "cell_type": "markdown",
   "metadata": {},
   "source": [
    "KNN Precision and Recall"
   ]
  },
  {
   "cell_type": "code",
   "execution_count": 134,
   "metadata": {},
   "outputs": [
    {
     "name": "stdout",
     "output_type": "stream",
     "text": [
      "Overall Precision: 0.7391304347826086\n",
      "Overall Recall: 0.6538461538461539\n"
     ]
    }
   ],
   "source": [
    "from sklearn.metrics import precision_score, recall_score\n",
    "\n",
    "print(\"Overall Precision:\",precision_score(y_test, knn_predictions))\n",
    "print(\"Overall Recall:\",recall_score(y_test, knn_predictions))"
   ]
  },
  {
   "cell_type": "markdown",
   "metadata": {},
   "source": [
    "Confusion matrix for KNN"
   ]
  },
  {
   "cell_type": "code",
   "execution_count": 56,
   "metadata": {},
   "outputs": [
    {
     "name": "stdout",
     "output_type": "stream",
     "text": [
      "[[32 16]\n",
      " [14 38]]\n"
     ]
    }
   ],
   "source": [
    "from sklearn.metrics import confusion_matrix\n",
    "\n",
    "# Print the confusion matrix\n",
    "cm = confusion_matrix(y_test, predictions)\n",
    "print (cm)"
   ]
  },
  {
   "cell_type": "code",
   "execution_count": 139,
   "metadata": {},
   "outputs": [
    {
     "data": {
      "image/png": "[encoded data removed]",
      "text/plain": [
       "<Figure size 640x480 with 2 Axes>"
      ]
     },
     "metadata": {},
     "output_type": "display_data"
    }
   ],
   "source": [
    "import seaborn as sns\n",
    "\n",
    "\n",
    "# Create a heatmap of the confusion matrix\n",
    "sns.heatmap(cm, annot=True, fmt='d', cmap='YlGnBu')\n",
    "\n",
    "# Add x and y axis labels\n",
    "plt.xlabel('Predicted Label')\n",
    "plt.ylabel('True Label')\n",
    "\n",
    "plt.savefig('knn_confusion_matrix.png')\n",
    "# Show the plot\n",
    "plt.show()"
   ]
  },
  {
   "cell_type": "markdown",
   "metadata": {},
   "source": [
    "Proba scores"
   ]
  },
  {
   "cell_type": "code",
   "execution_count": 137,
   "metadata": {
    "collapsed": true
   },
   "outputs": [
    {
     "name": "stdout",
     "output_type": "stream",
     "text": [
      "[[0.25 0.75]\n",
      " [0.75 0.25]\n",
      " [0.5  0.5 ]\n",
      " [0.   1.  ]\n",
      " [1.   0.  ]\n",
      " [0.5  0.5 ]\n",
      " [0.25 0.75]\n",
      " [1.   0.  ]\n",
      " [0.75 0.25]\n",
      " [0.25 0.75]\n",
      " [0.75 0.25]\n",
      " [0.75 0.25]\n",
      " [0.75 0.25]\n",
      " [0.5  0.5 ]\n",
      " [0.75 0.25]\n",
      " [0.   1.  ]\n",
      " [0.75 0.25]\n",
      " [0.5  0.5 ]\n",
      " [0.5  0.5 ]\n",
      " [0.   1.  ]\n",
      " [1.   0.  ]\n",
      " [0.25 0.75]\n",
      " [1.   0.  ]\n",
      " [0.   1.  ]\n",
      " [1.   0.  ]\n",
      " [0.25 0.75]\n",
      " [0.25 0.75]\n",
      " [0.   1.  ]\n",
      " [0.   1.  ]\n",
      " [1.   0.  ]\n",
      " [0.5  0.5 ]\n",
      " [1.   0.  ]\n",
      " [0.   1.  ]\n",
      " [0.5  0.5 ]\n",
      " [0.   1.  ]\n",
      " [0.25 0.75]\n",
      " [1.   0.  ]\n",
      " [1.   0.  ]\n",
      " [0.   1.  ]\n",
      " [1.   0.  ]\n",
      " [0.75 0.25]\n",
      " [0.75 0.25]\n",
      " [0.25 0.75]\n",
      " [1.   0.  ]\n",
      " [0.75 0.25]\n",
      " [0.25 0.75]\n",
      " [0.   1.  ]\n",
      " [1.   0.  ]\n",
      " [0.   1.  ]\n",
      " [0.75 0.25]\n",
      " [0.   1.  ]\n",
      " [0.75 0.25]\n",
      " [0.75 0.25]\n",
      " [0.5  0.5 ]\n",
      " [0.5  0.5 ]\n",
      " [0.5  0.5 ]\n",
      " [1.   0.  ]\n",
      " [0.25 0.75]\n",
      " [0.25 0.75]\n",
      " [0.25 0.75]\n",
      " [0.   1.  ]\n",
      " [1.   0.  ]\n",
      " [0.   1.  ]\n",
      " [0.25 0.75]\n",
      " [0.   1.  ]\n",
      " [1.   0.  ]\n",
      " [1.   0.  ]\n",
      " [1.   0.  ]\n",
      " [0.   1.  ]\n",
      " [0.25 0.75]\n",
      " [0.   1.  ]\n",
      " [0.5  0.5 ]\n",
      " [0.5  0.5 ]\n",
      " [0.5  0.5 ]\n",
      " [0.25 0.75]\n",
      " [0.75 0.25]\n",
      " [0.75 0.25]\n",
      " [0.   1.  ]\n",
      " [0.   1.  ]\n",
      " [0.5  0.5 ]\n",
      " [0.   1.  ]\n",
      " [0.   1.  ]\n",
      " [0.25 0.75]\n",
      " [1.   0.  ]\n",
      " [0.5  0.5 ]\n",
      " [0.5  0.5 ]\n",
      " [0.25 0.75]\n",
      " [0.75 0.25]\n",
      " [0.   1.  ]\n",
      " [0.25 0.75]\n",
      " [0.   1.  ]\n",
      " [0.   1.  ]\n",
      " [0.75 0.25]\n",
      " [0.5  0.5 ]\n",
      " [0.   1.  ]\n",
      " [0.5  0.5 ]\n",
      " [0.75 0.25]\n",
      " [0.   1.  ]\n",
      " [0.25 0.75]\n",
      " [0.   1.  ]]\n"
     ]
    }
   ],
   "source": [
    "knn_y_scores = knn.predict_proba(X_test)\n",
    "print(knn_y_scores)"
   ]
  },
  {
   "cell_type": "markdown",
   "metadata": {},
   "source": [
    "ROC Chart"
   ]
  },
  {
   "cell_type": "code",
   "execution_count": 141,
   "metadata": {},
   "outputs": [
    {
     "data": {
      "image/png": "[encoded data removed]",
      "text/plain": [
       "<Figure size 600x600 with 1 Axes>"
      ]
     },
     "metadata": {},
     "output_type": "display_data"
    }
   ],
   "source": [
    "from sklearn.metrics import roc_curve\n",
    "from sklearn.metrics import confusion_matrix\n",
    "import matplotlib\n",
    "import matplotlib.pyplot as plt\n",
    "%matplotlib inline\n",
    "\n",
    "# calculate ROC curve\n",
    "fpr, tpr, thresholds = roc_curve(y_test, knn_y_scores[:,1])\n",
    "\n",
    "# plot ROC curve\n",
    "fig = plt.figure(figsize=(6, 6))\n",
    "# Plot the diagonal 50% line\n",
    "plt.plot([0, 1], [0, 1], 'k--')\n",
    "# Plot the FPR and TPR achieved by our model\n",
    "plt.plot(fpr, tpr)\n",
    "plt.xlabel('False Positive Rate')\n",
    "plt.ylabel('True Positive Rate')\n",
    "plt.title('ROC Curve')\n",
    "plt.savefig('knn_roc_curve.png')\n",
    "plt.show()"
   ]
  },
  {
   "cell_type": "code",
   "execution_count": 75,
   "metadata": {},
   "outputs": [
    {
     "name": "stdout",
     "output_type": "stream",
     "text": [
      "9\n"
     ]
    },
    {
     "data": {
      "image/png": "[encoded data removed]",
      "text/plain": [
       "<Figure size 640x480 with 1 Axes>"
      ]
     },
     "metadata": {},
     "output_type": "display_data"
    }
   ],
   "source": [
    "k_values = range(2,11)\n",
    "print(len(knn_accuracy_list))\n",
    "# accuracy = [0.58, 0.7, 0.68, 0.78, 0.66, 0.72, 0.7, 0.7, 0.74]\n",
    "plt.plot(k_values, knn_accuracy_list)\n",
    "plt.xlabel('K Values')\n",
    "plt.ylabel('Accuracy')\n",
    "plt.savefig('AccuracyvKValues.png')\n",
    "plt.show()"
   ]
  },
  {
   "cell_type": "markdown",
   "metadata": {},
   "source": [
    "## Testing our own voices"
   ]
  },
  {
   "cell_type": "code",
   "execution_count": 109,
   "metadata": {},
   "outputs": [],
   "source": [
    "recording_folder = [\"Dataset/Recordings/Andra.wav\", \"Dataset/Recordings/Andrzej.wav\", \n",
    "                    \"Dataset/Recordings/Kasia.wav\", \"Dataset/Recordings/Ridhima.wav\", \"Dataset/Recordings/Anish.wav\"]"
   ]
  },
  {
   "cell_type": "code",
   "execution_count": 110,
   "metadata": {},
   "outputs": [],
   "source": [
    "recording_data = []"
   ]
  },
  {
   "cell_type": "code",
   "execution_count": 111,
   "metadata": {
    "scrolled": true
   },
   "outputs": [
    {
     "data": {
      "application/vnd.jupyter.widget-view+json": {
       "model_id": "3504bfcfa9304a1aa8686a2b87f9f6e2",
       "version_major": 2,
       "version_minor": 0
      },
      "text/plain": [
       "  0%|          | 0/5 [00:00<?, ?it/s]"
      ]
     },
     "metadata": {},
     "output_type": "display_data"
    }
   ],
   "source": [
    "for recording in tqdm(recording_folder):\n",
    "#     print(recording)\n",
    "    rec_data = load_audio_to_df(recording)\n",
    "    recording_data.append(rec_data)"
   ]
  },
  {
   "cell_type": "code",
   "execution_count": 112,
   "metadata": {},
   "outputs": [],
   "source": [
    "recording_df = pd.DataFrame(recording_data)"
   ]
  },
  {
   "cell_type": "code",
   "execution_count": 113,
   "metadata": {},
   "outputs": [],
   "source": [
    "X_recording = recording_df[['meanfun', 'q25', 'iqr', 'dfrange', 'stdev', 'skew', 'mfcc1', 'mfcc2', 'mfcc3', 'mfcc4','mfcc5','mfcc6',\n",
    "'mfcc7','mfcc8','mfcc9','mfcc10','mfcc11','mfcc12']]"
   ]
  },
  {
   "cell_type": "code",
   "execution_count": 114,
   "metadata": {},
   "outputs": [
    {
     "data": {
      "text/html": [
       "<div>\n",
       "<style scoped>\n",
       "    .dataframe tbody tr th:only-of-type {\n",
       "        vertical-align: middle;\n",
       "    }\n",
       "\n",
       "    .dataframe tbody tr th {\n",
       "        vertical-align: top;\n",
       "    }\n",
       "\n",
       "    .dataframe thead th {\n",
       "        text-align: right;\n",
       "    }\n",
       "</style>\n",
       "<table border=\"1\" class=\"dataframe\">\n",
       "  <thead>\n",
       "    <tr style=\"text-align: right;\">\n",
       "      <th></th>\n",
       "      <th>meanfun</th>\n",
       "      <th>q25</th>\n",
       "      <th>iqr</th>\n",
       "      <th>dfrange</th>\n",
       "      <th>stdev</th>\n",
       "      <th>skew</th>\n",
       "      <th>mfcc1</th>\n",
       "      <th>mfcc2</th>\n",
       "      <th>mfcc3</th>\n",
       "      <th>mfcc4</th>\n",
       "      <th>mfcc5</th>\n",
       "      <th>mfcc6</th>\n",
       "      <th>mfcc7</th>\n",
       "      <th>mfcc8</th>\n",
       "      <th>mfcc9</th>\n",
       "      <th>mfcc10</th>\n",
       "      <th>mfcc11</th>\n",
       "      <th>mfcc12</th>\n",
       "    </tr>\n",
       "  </thead>\n",
       "  <tbody>\n",
       "    <tr>\n",
       "      <th>0</th>\n",
       "      <td>623.102941</td>\n",
       "      <td>102.25</td>\n",
       "      <td>879.50</td>\n",
       "      <td>1939</td>\n",
       "      <td>572.983604</td>\n",
       "      <td>0.906566</td>\n",
       "      <td>-445.158051</td>\n",
       "      <td>91.755783</td>\n",
       "      <td>18.646824</td>\n",
       "      <td>10.112305</td>\n",
       "      <td>-6.092076</td>\n",
       "      <td>4.485010</td>\n",
       "      <td>-0.551062</td>\n",
       "      <td>-1.872480</td>\n",
       "      <td>1.942937</td>\n",
       "      <td>-0.570975</td>\n",
       "      <td>-0.458286</td>\n",
       "      <td>-2.724176</td>\n",
       "    </tr>\n",
       "    <tr>\n",
       "      <th>1</th>\n",
       "      <td>796.964286</td>\n",
       "      <td>115.75</td>\n",
       "      <td>1459.25</td>\n",
       "      <td>1903</td>\n",
       "      <td>764.999042</td>\n",
       "      <td>0.447583</td>\n",
       "      <td>-369.797119</td>\n",
       "      <td>80.083595</td>\n",
       "      <td>-6.616527</td>\n",
       "      <td>40.360882</td>\n",
       "      <td>-8.408625</td>\n",
       "      <td>21.631916</td>\n",
       "      <td>-10.849783</td>\n",
       "      <td>5.965209</td>\n",
       "      <td>-20.253210</td>\n",
       "      <td>4.931169</td>\n",
       "      <td>-16.484457</td>\n",
       "      <td>-1.895734</td>\n",
       "    </tr>\n",
       "    <tr>\n",
       "      <th>2</th>\n",
       "      <td>603.000000</td>\n",
       "      <td>200.00</td>\n",
       "      <td>700.50</td>\n",
       "      <td>1928</td>\n",
       "      <td>625.056043</td>\n",
       "      <td>1.208681</td>\n",
       "      <td>-334.652802</td>\n",
       "      <td>54.209961</td>\n",
       "      <td>-13.229638</td>\n",
       "      <td>33.409161</td>\n",
       "      <td>-12.410889</td>\n",
       "      <td>11.244707</td>\n",
       "      <td>-12.888378</td>\n",
       "      <td>2.432728</td>\n",
       "      <td>-11.465822</td>\n",
       "      <td>2.266034</td>\n",
       "      <td>-12.497405</td>\n",
       "      <td>11.447806</td>\n",
       "    </tr>\n",
       "    <tr>\n",
       "      <th>3</th>\n",
       "      <td>523.389474</td>\n",
       "      <td>179.00</td>\n",
       "      <td>545.50</td>\n",
       "      <td>1937</td>\n",
       "      <td>514.092359</td>\n",
       "      <td>1.316291</td>\n",
       "      <td>-284.596649</td>\n",
       "      <td>136.270447</td>\n",
       "      <td>-8.266128</td>\n",
       "      <td>18.115585</td>\n",
       "      <td>-5.105680</td>\n",
       "      <td>-9.690672</td>\n",
       "      <td>-4.327013</td>\n",
       "      <td>-1.167726</td>\n",
       "      <td>-2.686136</td>\n",
       "      <td>5.960196</td>\n",
       "      <td>0.474676</td>\n",
       "      <td>3.406702</td>\n",
       "    </tr>\n",
       "    <tr>\n",
       "      <th>4</th>\n",
       "      <td>804.117647</td>\n",
       "      <td>136.25</td>\n",
       "      <td>1160.75</td>\n",
       "      <td>1931</td>\n",
       "      <td>650.818222</td>\n",
       "      <td>0.463174</td>\n",
       "      <td>-402.776550</td>\n",
       "      <td>95.042984</td>\n",
       "      <td>-23.461426</td>\n",
       "      <td>26.276800</td>\n",
       "      <td>-12.922263</td>\n",
       "      <td>5.089564</td>\n",
       "      <td>-11.217446</td>\n",
       "      <td>-0.589038</td>\n",
       "      <td>-8.148165</td>\n",
       "      <td>-8.632969</td>\n",
       "      <td>-9.528173</td>\n",
       "      <td>-13.667516</td>\n",
       "    </tr>\n",
       "  </tbody>\n",
       "</table>\n",
       "</div>"
      ],
      "text/plain": [
       "      meanfun     q25      iqr  dfrange       stdev      skew       mfcc1  \\\n",
       "0  623.102941  102.25   879.50     1939  572.983604  0.906566 -445.158051   \n",
       "1  796.964286  115.75  1459.25     1903  764.999042  0.447583 -369.797119   \n",
       "2  603.000000  200.00   700.50     1928  625.056043  1.208681 -334.652802   \n",
       "3  523.389474  179.00   545.50     1937  514.092359  1.316291 -284.596649   \n",
       "4  804.117647  136.25  1160.75     1931  650.818222  0.463174 -402.776550   \n",
       "\n",
       "        mfcc2      mfcc3      mfcc4      mfcc5      mfcc6      mfcc7  \\\n",
       "0   91.755783  18.646824  10.112305  -6.092076   4.485010  -0.551062   \n",
       "1   80.083595  -6.616527  40.360882  -8.408625  21.631916 -10.849783   \n",
       "2   54.209961 -13.229638  33.409161 -12.410889  11.244707 -12.888378   \n",
       "3  136.270447  -8.266128  18.115585  -5.105680  -9.690672  -4.327013   \n",
       "4   95.042984 -23.461426  26.276800 -12.922263   5.089564 -11.217446   \n",
       "\n",
       "      mfcc8      mfcc9    mfcc10     mfcc11     mfcc12  \n",
       "0 -1.872480   1.942937 -0.570975  -0.458286  -2.724176  \n",
       "1  5.965209 -20.253210  4.931169 -16.484457  -1.895734  \n",
       "2  2.432728 -11.465822  2.266034 -12.497405  11.447806  \n",
       "3 -1.167726  -2.686136  5.960196   0.474676   3.406702  \n",
       "4 -0.589038  -8.148165 -8.632969  -9.528173 -13.667516  "
      ]
     },
     "execution_count": 114,
     "metadata": {},
     "output_type": "execute_result"
    }
   ],
   "source": [
    "X_recording"
   ]
  },
  {
   "cell_type": "code",
   "execution_count": 123,
   "metadata": {
    "scrolled": true
   },
   "outputs": [
    {
     "name": "stdout",
     "output_type": "stream",
     "text": [
      "[0 0 0 0 0]\n"
     ]
    },
    {
     "name": "stderr",
     "output_type": "stream",
     "text": [
      "C:\\Users\\gupta\\anaconda3\\lib\\site-packages\\sklearn\\neighbors\\_classification.py:228: FutureWarning: Unlike other reduction functions (e.g. `skew`, `kurtosis`), the default behavior of `mode` typically preserves the axis it acts along. In SciPy 1.11.0, this behavior will change: the default value of `keepdims` will become False, the `axis` over which the statistic is taken will be eliminated, and the value None will no longer be accepted. Set `keepdims` to True or False to avoid this warning.\n",
      "  mode, _ = stats.mode(_y[neigh_ind, k], axis=1)\n"
     ]
    }
   ],
   "source": [
    "test_predictions = knn.predict(X_recording)\n",
    "print(test_predictions)"
   ]
  },
  {
   "cell_type": "code",
   "execution_count": 124,
   "metadata": {},
   "outputs": [
    {
     "name": "stdout",
     "output_type": "stream",
     "text": [
      "[[3 0]\n",
      " [2 0]]\n"
     ]
    }
   ],
   "source": [
    "knn_rec_cm = confusion_matrix(y_true, test_predictions)\n",
    "print (knn_rec_cm)"
   ]
  },
  {
   "cell_type": "code",
   "execution_count": 125,
   "metadata": {},
   "outputs": [
    {
     "data": {
      "image/png": "[encoded data removed]",
      "text/plain": [
       "<Figure size 640x480 with 2 Axes>"
      ]
     },
     "metadata": {},
     "output_type": "display_data"
    }
   ],
   "source": [
    "#KNN Heatmap\n",
    "sns.heatmap(knn_rec_cm, annot=True, fmt='d', cmap='YlGnBu')\n",
    "\n",
    "# Add x and y axis labels\n",
    "plt.xlabel('Predicted Label')\n",
    "plt.ylabel('True Label')\n",
    "\n",
    "plt.savefig('self_recording_knn_confusion_matrix.png')\n",
    "# Show the plot\n",
    "plt.show()"
   ]
  },
  {
   "cell_type": "code",
   "execution_count": 116,
   "metadata": {
    "scrolled": true
   },
   "outputs": [
    {
     "name": "stdout",
     "output_type": "stream",
     "text": [
      "[0 0 1 1 0]\n"
     ]
    }
   ],
   "source": [
    "test_predictions_svc = clf.predict(X_recording)\n",
    "print(test_predictions_svc)"
   ]
  },
  {
   "cell_type": "code",
   "execution_count": 120,
   "metadata": {},
   "outputs": [],
   "source": [
    "y_true = [0, 0, 1, 1, 0]"
   ]
  },
  {
   "cell_type": "code",
   "execution_count": 121,
   "metadata": {
    "scrolled": true
   },
   "outputs": [
    {
     "name": "stdout",
     "output_type": "stream",
     "text": [
      "[[3 0]\n",
      " [0 2]]\n"
     ]
    }
   ],
   "source": [
    "rec_cm = confusion_matrix(y_true, test_predictions_svc)\n",
    "print (rec_cm)"
   ]
  },
  {
   "cell_type": "code",
   "execution_count": 126,
   "metadata": {},
   "outputs": [
    {
     "data": {
      "image/png": "[encoded data removed]",
      "text/plain": [
       "<Figure size 640x480 with 2 Axes>"
      ]
     },
     "metadata": {},
     "output_type": "display_data"
    }
   ],
   "source": [
    "#SVM recording test dataset confustion matrix\n",
    "# Create a heatmap of the confusion matrix\n",
    "sns.heatmap(rec_cm, annot=True, fmt='d', cmap='YlGnBu')\n",
    "\n",
    "# Add x and y axis labels\n",
    "plt.xlabel('Predicted Label')\n",
    "plt.ylabel('True Label')\n",
    "\n",
    "plt.savefig('self_recording_svm_confusion_matrix.png')\n",
    "# Show the plot\n",
    "plt.show()"
   ]
  }
 ],
 "metadata": {
  "kernelspec": {
   "display_name": "Python 3 (ipykernel)",
   "language": "python",
   "name": "python3"
  },
  "language_info": {
   "codemirror_mode": {
    "name": "ipython",
    "version": 3
   },
   "file_extension": ".py",
   "mimetype": "text/x-python",
   "name": "python",
   "nbconvert_exporter": "python",
   "pygments_lexer": "ipython3",
   "version": "3.9.13"
  },
  "vscode": {
   "interpreter": {
    "hash": "a9cff5a362bc38ef45d817ae74b1af54d6a076e3d773891282bce078b815ba34"
   }
  }
 },
 "nbformat": 4,
 "nbformat_minor": 2
}
